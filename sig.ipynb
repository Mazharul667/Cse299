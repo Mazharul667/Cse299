{
  "cells": [
    {
      "cell_type": "markdown",
      "metadata": {
        "id": "view-in-github",
        "colab_type": "text"
      },
      "source": [
        "<a href=\"https://colab.research.google.com/github/Mazharul667/cse299/blob/main/sig.ipynb\" target=\"_parent\"><img src=\"https://colab.research.google.com/assets/colab-badge.svg\" alt=\"Open In Colab\"/></a>"
      ]
    },
    {
      "cell_type": "code",
      "source": [
        "CSE 299 Section : 3\n",
        "Group : 4\n"
      ],
      "metadata": {
        "id": "BFVgW9SoLEfE"
      },
      "id": "BFVgW9SoLEfE",
      "execution_count": null,
      "outputs": []
    },
    {
      "cell_type": "code",
      "source": [
        "from google.colab import drive\n",
        "drive.mount('/content/drive')"
      ],
      "metadata": {
        "colab": {
          "base_uri": "https://localhost:8080/"
        },
        "id": "uCZr7HL0i_E8",
        "outputId": "7ba3b7bd-9678-4fc7-c72e-22e983669fff"
      },
      "id": "uCZr7HL0i_E8",
      "execution_count": 39,
      "outputs": [
        {
          "output_type": "stream",
          "name": "stdout",
          "text": [
            "Drive already mounted at /content/drive; to attempt to forcibly remount, call drive.mount(\"/content/drive\", force_remount=True).\n"
          ]
        }
      ]
    },
    {
      "cell_type": "code",
      "execution_count": null,
      "id": "a45ace44",
      "metadata": {
        "execution": {
          "iopub.execute_input": "2021-09-27T19:41:04.943526Z",
          "iopub.status.busy": "2021-09-27T19:41:04.941908Z",
          "iopub.status.idle": "2021-09-27T19:41:09.895746Z",
          "shell.execute_reply": "2021-09-27T19:41:09.894489Z",
          "shell.execute_reply.started": "2021-09-27T19:39:16.520506Z"
        },
        "papermill": {
          "duration": 4.998808,
          "end_time": "2021-09-27T19:41:09.895934",
          "exception": false,
          "start_time": "2021-09-27T19:41:04.897126",
          "status": "completed"
        },
        "tags": [],
        "id": "a45ace44"
      },
      "outputs": [],
      "source": [
        "import numpy as np\n",
        "import pandas as pd\n",
        "import matplotlib.pyplot as plt\n",
        "import os\n",
        "import cv2\n",
        "import glob\n",
        "from tensorflow.keras.utils import to_categorical\n",
        "from tensorflow.keras import applications\n",
        "from tensorflow import keras\n",
        "from tensorflow.keras import layers\n",
        "from tensorflow.keras import Sequential\n",
        "from tensorflow.keras.models import Sequential, Model, load_model\n",
        "from tensorflow.keras import applications\n",
        "from tensorflow.keras import optimizers\n",
        "from tensorflow.keras.layers import Dropout, Flatten, Dense\n",
        "from tensorflow.keras.optimizers import Adam\n",
        "from sklearn.utils import shuffle\n",
        "from sklearn.metrics import accuracy_score\n",
        "from tensorflow.keras.callbacks import ModelCheckpoint, LearningRateScheduler, EarlyStopping, ReduceLROnPlateau, TensorBoard\n",
        "from tensorflow.keras import backend as K\n",
        "import gc\n",
        "from tensorflow.keras.models import Model"
      ]
    },
    {
      "cell_type": "code",
      "execution_count": null,
      "id": "5a8c9bee",
      "metadata": {
        "execution": {
          "iopub.execute_input": "2021-09-27T19:41:09.986681Z",
          "iopub.status.busy": "2021-09-27T19:41:09.985777Z",
          "iopub.status.idle": "2021-09-27T19:41:09.988239Z",
          "shell.execute_reply": "2021-09-27T19:41:09.987679Z",
          "shell.execute_reply.started": "2021-09-27T19:39:16.665425Z"
        },
        "papermill": {
          "duration": 0.049167,
          "end_time": "2021-09-27T19:41:09.988365",
          "exception": false,
          "start_time": "2021-09-27T19:41:09.939198",
          "status": "completed"
        },
        "tags": [],
        "id": "5a8c9bee"
      },
      "outputs": [],
      "source": [
        "train_dir=\"/content/drive/MyDrive/cse299/sign_data/train\"\n",
        "test_dir=\"/content/drive/MyDrive/cse299/sign_data/test\""
      ]
    },
    {
      "cell_type": "code",
      "execution_count": 40,
      "id": "fc09a97b",
      "metadata": {
        "execution": {
          "iopub.execute_input": "2021-09-27T19:41:10.074344Z",
          "iopub.status.busy": "2021-09-27T19:41:10.073833Z",
          "iopub.status.idle": "2021-09-27T19:41:10.451292Z",
          "shell.execute_reply": "2021-09-27T19:41:10.451705Z",
          "shell.execute_reply.started": "2021-09-27T19:39:16.818132Z"
        },
        "papermill": {
          "duration": 0.421754,
          "end_time": "2021-09-27T19:41:10.451854",
          "exception": false,
          "start_time": "2021-09-27T19:41:10.030100",
          "status": "completed"
        },
        "tags": [],
        "id": "fc09a97b"
      },
      "outputs": [],
      "source": [
        "# img = plt.imread('/content/drive/MyDrive/cse299/sign_data/train/001/001_01.PNG')\n",
        "# plt.imshow(img)"
      ]
    },
    {
      "cell_type": "code",
      "execution_count": 41,
      "id": "3c4d9aee",
      "metadata": {
        "execution": {
          "iopub.execute_input": "2021-09-27T19:41:10.542529Z",
          "iopub.status.busy": "2021-09-27T19:41:10.542028Z",
          "iopub.status.idle": "2021-09-27T19:41:10.818652Z",
          "shell.execute_reply": "2021-09-27T19:41:10.817781Z",
          "shell.execute_reply.started": "2021-09-27T19:39:17.649636Z"
        },
        "papermill": {
          "duration": 0.323544,
          "end_time": "2021-09-27T19:41:10.818781",
          "exception": false,
          "start_time": "2021-09-27T19:41:10.495237",
          "status": "completed"
        },
        "tags": [],
        "id": "3c4d9aee"
      },
      "outputs": [],
      "source": [
        "# img1 = plt.imread('/content/drive/MyDrive/cse299/sign_data/train/001_forg/0119001_01.png')\n",
        "# plt.imshow(img1)"
      ]
    },
    {
      "cell_type": "code",
      "execution_count": null,
      "id": "b47986d5",
      "metadata": {
        "execution": {
          "iopub.execute_input": "2021-09-27T19:41:11.097210Z",
          "iopub.status.busy": "2021-09-27T19:41:11.095622Z",
          "iopub.status.idle": "2021-09-27T19:41:11.097808Z",
          "shell.execute_reply": "2021-09-27T19:41:11.098195Z",
          "shell.execute_reply.started": "2021-09-27T19:39:18.231695Z"
        },
        "papermill": {
          "duration": 0.053643,
          "end_time": "2021-09-27T19:41:11.098322",
          "exception": false,
          "start_time": "2021-09-27T19:41:11.044679",
          "status": "completed"
        },
        "tags": [],
        "id": "b47986d5"
      },
      "outputs": [],
      "source": [
        "SIZE = 224"
      ]
    },
    {
      "cell_type": "code",
      "execution_count": null,
      "id": "2212a6a2",
      "metadata": {
        "execution": {
          "iopub.execute_input": "2021-09-27T19:41:11.198155Z",
          "iopub.status.busy": "2021-09-27T19:41:11.197488Z",
          "iopub.status.idle": "2021-09-27T19:41:35.088675Z",
          "shell.execute_reply": "2021-09-27T19:41:35.088133Z",
          "shell.execute_reply.started": "2021-09-27T19:39:18.521506Z"
        },
        "papermill": {
          "duration": 23.945968,
          "end_time": "2021-09-27T19:41:35.088817",
          "exception": false,
          "start_time": "2021-09-27T19:41:11.142849",
          "status": "completed"
        },
        "tags": [],
        "id": "2212a6a2"
      },
      "outputs": [],
      "source": [
        "train_data_names = []\n",
        "test_data_names = []\n",
        "\n",
        "train_data = []\n",
        "train_labels = []\n",
        "\n",
        "for per in os.listdir('/content/drive/MyDrive/cse299/sign_data/train'):\n",
        "    for data in glob.glob('/content/drive/MyDrive/cse299/sign_data/train/'+per+'/*.*'):\n",
        "\n",
        "        train_data_names.append(data)\n",
        "        img = cv2.imread(data)\n",
        "        img = cv2.cvtColor(img, cv2.COLOR_BGR2RGB)\n",
        "        img = cv2.resize(img, (SIZE,SIZE))\n",
        "        train_data.append([img])\n",
        "        if per[-1]=='g':\n",
        "            train_labels.append(np.array(1))\n",
        "        else:\n",
        "            train_labels.append(np.array(0))\n",
        "\n",
        "train_data = np.array(train_data)/255.0\n",
        "train_labels = np.array(train_labels)\n",
        "\n",
        "#Test Data\n",
        "\n",
        "test_data = []\n",
        "test_labels = []\n",
        "\n",
        "for per in os.listdir('/content/drive/MyDrive/cse299/sign_data/test'):\n",
        "    for data in glob.glob('/content/drive/MyDrive/cse299/sign_data/test/'+per+'/*.*'):\n",
        "        test_data_names.append(data)\n",
        "        img = cv2.imread(data)\n",
        "        img = cv2.cvtColor(img, cv2.COLOR_BGR2RGB)\n",
        "        img = cv2.resize(img, (SIZE,SIZE))\n",
        "        test_data.append([img])\n",
        "        if per[-1]=='g':\n",
        "            test_labels.append(np.array(1))\n",
        "        else:\n",
        "            test_labels.append(np.array(0))\n",
        "\n",
        "test_data = np.array(test_data)/255.0\n",
        "test_labels = np.array(test_labels)"
      ]
    },
    {
      "cell_type": "code",
      "execution_count": null,
      "id": "85ed80a7",
      "metadata": {
        "execution": {
          "iopub.execute_input": "2021-09-27T19:41:35.285189Z",
          "iopub.status.busy": "2021-09-27T19:41:35.284516Z",
          "iopub.status.idle": "2021-09-27T19:41:35.286842Z",
          "shell.execute_reply": "2021-09-27T19:41:35.287236Z",
          "shell.execute_reply.started": "2021-09-27T19:39:40.317566Z"
        },
        "papermill": {
          "duration": 0.052786,
          "end_time": "2021-09-27T19:41:35.287377",
          "exception": false,
          "start_time": "2021-09-27T19:41:35.234591",
          "status": "completed"
        },
        "tags": [],
        "id": "85ed80a7"
      },
      "outputs": [],
      "source": [
        "# Categorical labels\n",
        "#print(train_labels)\n",
        "train_labels = to_categorical(train_labels)\n",
        "#print(train_data.shape)\n",
        "# Reshaping\n",
        "train_data = train_data.reshape(-1, SIZE,SIZE, 3)\n",
        "test_data = test_data.reshape(-1, SIZE,SIZE, 3)"
      ]
    },
    {
      "cell_type": "markdown",
      "id": "eee5af2f",
      "metadata": {
        "papermill": {
          "duration": 0.0451,
          "end_time": "2021-09-27T19:41:36.009510",
          "exception": false,
          "start_time": "2021-09-27T19:41:35.964410",
          "status": "completed"
        },
        "tags": [],
        "id": "eee5af2f"
      },
      "source": [
        "![image.png](attachment:8470a278-87b0-4da0-9e5f-6823f84fbfdc.png)"
      ]
    },
    {
      "cell_type": "code",
      "execution_count": null,
      "id": "59e60e2e",
      "metadata": {
        "execution": {
          "iopub.execute_input": "2021-09-27T19:41:36.115316Z",
          "iopub.status.busy": "2021-09-27T19:41:36.114656Z",
          "iopub.status.idle": "2021-09-27T19:41:36.117628Z",
          "shell.execute_reply": "2021-09-27T19:41:36.117153Z",
          "shell.execute_reply.started": "2021-09-27T19:39:48.610423Z"
        },
        "papermill": {
          "duration": 0.053412,
          "end_time": "2021-09-27T19:41:36.117744",
          "exception": false,
          "start_time": "2021-09-27T19:41:36.064332",
          "status": "completed"
        },
        "tags": [],
        "id": "59e60e2e"
      },
      "outputs": [],
      "source": [
        "input_ = (224,224,3)\n",
        "EPOCHS = 20\n",
        "BS = 64\n",
        "output_ = 2"
      ]
    },
    {
      "cell_type": "markdown",
      "id": "044a1baf",
      "metadata": {
        "papermill": {
          "duration": 0.04621,
          "end_time": "2021-09-27T19:41:36.210036",
          "exception": false,
          "start_time": "2021-09-27T19:41:36.163826",
          "status": "completed"
        },
        "tags": [],
        "id": "044a1baf"
      },
      "source": [
        "<h3> Feature Extraction Results </h3>"
      ]
    },
    {
      "cell_type": "markdown",
      "id": "27296eaf",
      "metadata": {
        "papermill": {
          "duration": 0.045569,
          "end_time": "2021-09-27T19:41:36.300925",
          "exception": false,
          "start_time": "2021-09-27T19:41:36.255356",
          "status": "completed"
        },
        "tags": [],
        "id": "27296eaf"
      },
      "source": [
        "![image.png](attachment:a23ab6f3-9629-4231-ad62-abfcc26b1f04.png)"
      ]
    },
    {
      "cell_type": "markdown",
      "id": "aec6e489",
      "metadata": {
        "papermill": {
          "duration": 0.045169,
          "end_time": "2021-09-27T19:41:36.391256",
          "exception": false,
          "start_time": "2021-09-27T19:41:36.346087",
          "status": "completed"
        },
        "tags": [],
        "id": "aec6e489"
      },
      "source": [
        "<h3> Graphs of Best Performing Models </h3>"
      ]
    },
    {
      "cell_type": "markdown",
      "id": "c53791d8",
      "metadata": {
        "papermill": {
          "duration": 0.045087,
          "end_time": "2021-09-27T19:41:36.482034",
          "exception": false,
          "start_time": "2021-09-27T19:41:36.436947",
          "status": "completed"
        },
        "tags": [],
        "id": "c53791d8"
      },
      "source": [
        "![image.png](attachment:5e5176a7-51fa-4496-b248-93e77a2df510.png)"
      ]
    },
    {
      "cell_type": "markdown",
      "id": "7d07c7ad",
      "metadata": {
        "papermill": {
          "duration": 0.045124,
          "end_time": "2021-09-27T19:41:36.572751",
          "exception": false,
          "start_time": "2021-09-27T19:41:36.527627",
          "status": "completed"
        },
        "tags": [],
        "id": "7d07c7ad"
      },
      "source": [
        "<h3> Feature Selection </h3>"
      ]
    },
    {
      "cell_type": "markdown",
      "id": "3becc13f",
      "metadata": {
        "papermill": {
          "duration": 0.045791,
          "end_time": "2021-09-27T19:41:36.754416",
          "exception": false,
          "start_time": "2021-09-27T19:41:36.708625",
          "status": "completed"
        },
        "tags": [],
        "id": "3becc13f"
      },
      "source": [
        "# VGG16"
      ]
    },
    {
      "cell_type": "code",
      "execution_count": null,
      "id": "3102d138",
      "metadata": {
        "execution": {
          "iopub.execute_input": "2021-09-27T19:41:36.862404Z",
          "iopub.status.busy": "2021-09-27T19:41:36.861447Z",
          "iopub.status.idle": "2021-09-27T19:42:44.688128Z",
          "shell.execute_reply": "2021-09-27T19:42:44.687667Z"
        },
        "papermill": {
          "duration": 67.888359,
          "end_time": "2021-09-27T19:42:44.688258",
          "exception": false,
          "start_time": "2021-09-27T19:41:36.799899",
          "status": "completed"
        },
        "tags": [],
        "id": "3102d138",
        "colab": {
          "base_uri": "https://localhost:8080/",
          "height": 1000
        },
        "outputId": "533afa7c-6ff5-40de-c2f1-9a5514cf0a1b"
      },
      "outputs": [
        {
          "output_type": "stream",
          "name": "stdout",
          "text": [
            "Downloading data from https://storage.googleapis.com/tensorflow/keras-applications/vgg16/vgg16_weights_tf_dim_ordering_tf_kernels_notop.h5\n",
            "58889256/58889256 [==============================] - 0s 0us/step\n"
          ]
        },
        {
          "output_type": "stream",
          "name": "stderr",
          "text": [
            "WARNING:absl:`lr` is deprecated in Keras optimizer, please use `learning_rate` or use the legacy optimizer, e.g.,tf.keras.optimizers.legacy.Adam.\n"
          ]
        },
        {
          "output_type": "stream",
          "name": "stdout",
          "text": [
            "Model: \"model\"\n",
            "_________________________________________________________________\n",
            " Layer (type)                Output Shape              Param #   \n",
            "=================================================================\n",
            " vgg16_input (InputLayer)    [(None, 224, 224, 3)]     0         \n",
            "                                                                 \n",
            " vgg16 (Functional)          (None, 7, 7, 512)         14714688  \n",
            "                                                                 \n",
            " flatten (Flatten)           (None, 25088)             0         \n",
            "                                                                 \n",
            " dense (Dense)               (None, 256)               6422784   \n",
            "                                                                 \n",
            " dense_1 (Dense)             (None, 2)                 514       \n",
            "                                                                 \n",
            "=================================================================\n",
            "Total params: 21,137,986\n",
            "Trainable params: 21,137,986\n",
            "Non-trainable params: 0\n",
            "_________________________________________________________________\n",
            "Epoch 1/20\n",
            "19/19 [==============================] - 68s 1s/step - loss: 2.0426 - accuracy: 0.4983 - val_loss: 0.6907 - val_accuracy: 0.6162\n",
            "Epoch 2/20\n",
            "19/19 [==============================] - 16s 851ms/step - loss: 0.6932 - accuracy: 0.5121 - val_loss: 0.6908 - val_accuracy: 0.6162\n",
            "Epoch 3/20\n",
            "19/19 [==============================] - 16s 828ms/step - loss: 0.6938 - accuracy: 0.5095 - val_loss: 0.6905 - val_accuracy: 0.6162\n",
            "Epoch 4/20\n",
            "19/19 [==============================] - 17s 894ms/step - loss: 0.7937 - accuracy: 0.5035 - val_loss: 21.6300 - val_accuracy: 0.3838\n",
            "Epoch 5/20\n",
            "19/19 [==============================] - 17s 910ms/step - loss: 1.5986 - accuracy: 0.5139 - val_loss: 0.8136 - val_accuracy: 0.3818\n",
            "Epoch 6/20\n",
            "19/19 [==============================] - 17s 890ms/step - loss: 0.7026 - accuracy: 0.4861 - val_loss: 0.6901 - val_accuracy: 0.6162\n",
            "Epoch 7/20\n",
            "19/19 [==============================] - 17s 887ms/step - loss: 0.7015 - accuracy: 0.4887 - val_loss: 0.6715 - val_accuracy: 0.6162\n",
            "Epoch 8/20\n",
            "19/19 [==============================] - 16s 842ms/step - loss: 0.7016 - accuracy: 0.4922 - val_loss: 0.6768 - val_accuracy: 0.6162\n",
            "Epoch 9/20\n",
            "19/19 [==============================] - 16s 853ms/step - loss: 0.6941 - accuracy: 0.5069 - val_loss: 0.6983 - val_accuracy: 0.3838\n",
            "Epoch 10/20\n",
            "19/19 [==============================] - 16s 855ms/step - loss: 0.6935 - accuracy: 0.5017 - val_loss: 0.7051 - val_accuracy: 0.3838\n",
            "Epoch 10: early stopping\n"
          ]
        },
        {
          "output_type": "display_data",
          "data": {
            "text/plain": [
              "<Figure size 640x480 with 1 Axes>"
            ],
            "image/png": "[encoded data removed]"
          },
          "metadata": {}
        },
        {
          "output_type": "display_data",
          "data": {
            "text/plain": [
              "<Figure size 640x480 with 0 Axes>"
            ]
          },
          "metadata": {}
        },
        {
          "output_type": "display_data",
          "data": {
            "text/plain": [
              "<Figure size 640x480 with 1 Axes>"
            ],
            "image/png": "[encoded data removed]"
          },
          "metadata": {}
        },
        {
          "output_type": "stream",
          "name": "stdout",
          "text": [
            "52/52 [==============================] - 14s 176ms/step\n",
            "16/16 [==============================] - 5s 313ms/step\n",
            "[[0. 0. 0. ... 0. 0. 0.]\n",
            " [0. 0. 0. ... 0. 0. 0.]\n",
            " [0. 0. 0. ... 0. 0. 0.]\n",
            " ...\n",
            " [0. 0. 0. ... 0. 0. 0.]\n",
            " [0. 0. 0. ... 0. 0. 0.]\n",
            " [0. 0. 0. ... 0. 0. 0.]]\n",
            "[[0. 0. 0. ... 0. 0. 0.]\n",
            " [0. 0. 0. ... 0. 0. 0.]\n",
            " [0. 0. 0. ... 0. 0. 0.]\n",
            " ...\n",
            " [0. 0. 0. ... 0. 0. 0.]\n",
            " [0. 0. 0. ... 0. 0. 0.]\n",
            " [0. 0. 0. ... 0. 0. 0.]]\n"
          ]
        }
      ],
      "source": [
        "base_model = applications.VGG16(weights='imagenet', include_top=False, input_shape=input_)\n",
        "\n",
        "model = Sequential()\n",
        "data_augmentation = keras.Sequential([layers.experimental.preprocessing.RandomRotation(0.1)])\n",
        "model.add(base_model)\n",
        "model.add(Flatten(input_shape=base_model.output_shape[1:]))\n",
        "model.add(Dense(256, activation='relu'))\n",
        "model.add(Dense(output_, activation='softmax'))\n",
        "\n",
        "model = Model(inputs=model.input, outputs=model.output)\n",
        "model.compile(loss='categorical_crossentropy', optimizer=optimizers.Adam(lr=1e-4),\n",
        "              metrics=['accuracy'])\n",
        "\n",
        "model.summary()\n",
        "\n",
        "earlyStopping = EarlyStopping(monitor='val_loss',\n",
        "                              min_delta=0,\n",
        "                              patience=3,\n",
        "                              verbose=1)\n",
        "\n",
        "early_stop=[earlyStopping]\n",
        "progess = model.fit(train_data,train_labels, batch_size=BS,epochs=EPOCHS, callbacks=early_stop,validation_split=.3)\n",
        "acc = progess.history['accuracy']\n",
        "val_acc = progess.history['val_accuracy']\n",
        "loss = progess.history['loss']\n",
        "val_loss = progess.history['val_loss']\n",
        "\n",
        "epochs = range(len(acc))\n",
        "\n",
        "plt.plot(epochs, acc, 'b', label='Training acc')\n",
        "plt.plot(epochs, val_acc, 'r', label='Validation acc')\n",
        "plt.title('Training and validation accuracy')\n",
        "plt.legend()\n",
        "plt.figure()\n",
        "plt.show()\n",
        "\n",
        "plt.plot(epochs, loss, 'b', label='Training loss')\n",
        "plt.plot(epochs, val_loss, 'r', label='Validation loss')\n",
        "plt.title('Training and validation loss')\n",
        "plt.legend()\n",
        "plt.show()\n",
        "\n",
        "intermediate_layer_model = Model(inputs=model.input,\n",
        "                                 outputs=model.layers[-2].output)\n",
        "intermediate_output_train = intermediate_layer_model.predict(train_data)\n",
        "intermediate_output_test = intermediate_layer_model.predict(test_data)\n",
        "\n",
        "print(intermediate_output_train)\n",
        "print(intermediate_output_test)"
      ]
    },
    {
      "cell_type": "code",
      "source": [
        "model.save('/content/drive/MyDrive/Colab Notebooks/models/vgg') # to save this vgg16"
      ],
      "metadata": {
        "id": "09uVC2uwZDe0",
        "colab": {
          "base_uri": "https://localhost:8080/"
        },
        "outputId": "aeab28ed-fab1-4df8-8519-058692ec7407"
      },
      "id": "09uVC2uwZDe0",
      "execution_count": null,
      "outputs": [
        {
          "output_type": "stream",
          "name": "stderr",
          "text": [
            "WARNING:absl:Found untraced functions such as _jit_compiled_convolution_op, _jit_compiled_convolution_op, _jit_compiled_convolution_op, _jit_compiled_convolution_op, _jit_compiled_convolution_op while saving (showing 5 of 13). These functions will not be directly callable after loading.\n"
          ]
        }
      ]
    },
    {
      "cell_type": "markdown",
      "id": "20d0f692",
      "metadata": {
        "papermill": {
          "duration": 0.298228,
          "end_time": "2021-09-27T19:48:52.457172",
          "exception": false,
          "start_time": "2021-09-27T19:48:52.158944",
          "status": "completed"
        },
        "tags": [],
        "id": "20d0f692"
      },
      "source": [
        "# ResNet50"
      ]
    },
    {
      "cell_type": "code",
      "execution_count": null,
      "id": "82ecea38",
      "metadata": {
        "execution": {
          "iopub.execute_input": "2021-09-27T19:48:53.070811Z",
          "iopub.status.busy": "2021-09-27T19:48:53.069148Z",
          "iopub.status.idle": "2021-09-27T19:49:37.864545Z",
          "shell.execute_reply": "2021-09-27T19:49:37.864046Z"
        },
        "papermill": {
          "duration": 45.107376,
          "end_time": "2021-09-27T19:49:37.864706",
          "exception": false,
          "start_time": "2021-09-27T19:48:52.757330",
          "status": "completed"
        },
        "tags": [],
        "id": "82ecea38",
        "colab": {
          "base_uri": "https://localhost:8080/",
          "height": 1000
        },
        "outputId": "39b59e33-1d03-4526-9842-24516d1e690d"
      },
      "outputs": [
        {
          "output_type": "stream",
          "name": "stdout",
          "text": [
            "Downloading data from https://storage.googleapis.com/tensorflow/keras-applications/resnet/resnet50_weights_tf_dim_ordering_tf_kernels_notop.h5\n",
            "94765736/94765736 [==============================] - 1s 0us/step\n"
          ]
        },
        {
          "output_type": "stream",
          "name": "stderr",
          "text": [
            "WARNING:absl:`lr` is deprecated in Keras optimizer, please use `learning_rate` or use the legacy optimizer, e.g.,tf.keras.optimizers.legacy.Adam.\n"
          ]
        },
        {
          "output_type": "stream",
          "name": "stdout",
          "text": [
            "Model: \"model_2\"\n",
            "_________________________________________________________________\n",
            " Layer (type)                Output Shape              Param #   \n",
            "=================================================================\n",
            " resnet50_input (InputLayer)  [(None, 224, 224, 3)]    0         \n",
            "                                                                 \n",
            " resnet50 (Functional)       (None, 7, 7, 2048)        23587712  \n",
            "                                                                 \n",
            " flatten_1 (Flatten)         (None, 100352)            0         \n",
            "                                                                 \n",
            " dense_2 (Dense)             (None, 256)               25690368  \n",
            "                                                                 \n",
            " dense_3 (Dense)             (None, 2)                 514       \n",
            "                                                                 \n",
            "=================================================================\n",
            "Total params: 49,278,594\n",
            "Trainable params: 49,225,474\n",
            "Non-trainable params: 53,120\n",
            "_________________________________________________________________\n",
            "Epoch 1/20\n",
            "19/19 [==============================] - 66s 931ms/step - loss: 4.2084 - accuracy: 0.8925 - val_loss: 909.7833 - val_accuracy: 0.6162\n",
            "Epoch 2/20\n",
            "19/19 [==============================] - 13s 703ms/step - loss: 0.5546 - accuracy: 0.8683 - val_loss: 48186.6211 - val_accuracy: 0.6162\n",
            "Epoch 3/20\n",
            "19/19 [==============================] - 13s 685ms/step - loss: 0.1421 - accuracy: 0.9497 - val_loss: 13537.5391 - val_accuracy: 0.6162\n",
            "Epoch 4/20\n",
            "19/19 [==============================] - 14s 744ms/step - loss: 0.0490 - accuracy: 0.9818 - val_loss: 1659.4636 - val_accuracy: 0.6162\n",
            "Epoch 4: early stopping\n"
          ]
        },
        {
          "output_type": "display_data",
          "data": {
            "text/plain": [
              "<Figure size 640x480 with 1 Axes>"
            ],
            "image/png": "[encoded data removed]"
          },
          "metadata": {}
        },
        {
          "output_type": "display_data",
          "data": {
            "text/plain": [
              "<Figure size 640x480 with 0 Axes>"
            ]
          },
          "metadata": {}
        },
        {
          "output_type": "display_data",
          "data": {
            "text/plain": [
              "<Figure size 640x480 with 1 Axes>"
            ],
            "image/png": "[encoded data removed]"
          },
          "metadata": {}
        },
        {
          "output_type": "stream",
          "name": "stdout",
          "text": [
            "52/52 [==============================] - 9s 103ms/step\n",
            "16/16 [==============================] - 2s 146ms/step\n",
            "[[   0.        0.        0.     ...    0.     1316.3922    0.    ]\n",
            " [   0.        0.        0.     ...    0.     1316.0193    0.    ]\n",
            " [   0.        0.        0.     ...    0.     1316.6957    0.    ]\n",
            " ...\n",
            " [   0.        0.        0.     ...    0.     1315.2441    0.    ]\n",
            " [   0.        0.        0.     ...    0.     1314.5422    0.    ]\n",
            " [   0.        0.        0.     ...    0.     1315.6624    0.    ]]\n",
            "[[   0.        0.        0.     ...    0.     1316.2125    0.    ]\n",
            " [   0.        0.        0.     ...    0.     1316.4279    0.    ]\n",
            " [   0.        0.        0.     ...    0.     1316.8883    0.    ]\n",
            " ...\n",
            " [   0.        0.        0.     ...    0.     1314.9547    0.    ]\n",
            " [   0.        0.        0.     ...    0.     1314.3247    0.    ]\n",
            " [   0.        0.        0.     ...    0.     1314.6604    0.    ]]\n"
          ]
        }
      ],
      "source": [
        "base_model = applications.ResNet50(weights='imagenet', include_top=False, input_shape=input_)\n",
        "\n",
        "model = Sequential()\n",
        "data_augmentation = keras.Sequential([layers.experimental.preprocessing.RandomRotation(0.1)])\n",
        "model.add(base_model)\n",
        "model.add(Flatten(input_shape=base_model.output_shape[1:]))\n",
        "model.add(Dense(256, activation='relu'))\n",
        "model.add(Dense(output_, activation='softmax'))\n",
        "\n",
        "model = Model(inputs=model.input, outputs=model.output)\n",
        "model.compile(loss='categorical_crossentropy', optimizer=optimizers.Adam(lr=1e-4),\n",
        "              metrics=['accuracy'])\n",
        "\n",
        "model.summary()\n",
        "\n",
        "earlyStopping = EarlyStopping(monitor='val_loss',\n",
        "                              min_delta=0,\n",
        "                              patience=3,\n",
        "                              verbose=1)\n",
        "\n",
        "early_stop=[earlyStopping]\n",
        "progess = model.fit(train_data,train_labels, batch_size=BS,epochs=EPOCHS, callbacks=early_stop,validation_split=.3)\n",
        "acc = progess.history['accuracy']\n",
        "val_acc = progess.history['val_accuracy']\n",
        "loss = progess.history['loss']\n",
        "val_loss = progess.history['val_loss']\n",
        "\n",
        "epochs = range(len(acc))\n",
        "\n",
        "plt.plot(epochs, acc, 'b', label='Training acc')\n",
        "plt.plot(epochs, val_acc, 'r', label='Validation acc')\n",
        "plt.title('Training and validation accuracy')\n",
        "plt.legend()\n",
        "plt.figure()\n",
        "plt.show()\n",
        "\n",
        "plt.plot(epochs, loss, 'b', label='Training loss')\n",
        "plt.plot(epochs, val_loss, 'r', label='Validation loss')\n",
        "plt.title('Training and validation loss')\n",
        "plt.legend()\n",
        "plt.show()\n",
        "\n",
        "intermediate_layer_model = Model(inputs=model.input,\n",
        "                                 outputs=model.layers[-2].output)\n",
        "intermediate_output_train = intermediate_layer_model.predict(train_data)\n",
        "intermediate_output_test = intermediate_layer_model.predict(test_data)\n",
        "\n",
        "print(intermediate_output_train)\n",
        "print(intermediate_output_test)"
      ]
    },
    {
      "cell_type": "code",
      "source": [
        "model.save('/content/drive/MyDrive/Colab Notebooks/models/resnet') #to save resnet"
      ],
      "metadata": {
        "id": "upUzoHWOZQdC",
        "colab": {
          "base_uri": "https://localhost:8080/"
        },
        "outputId": "6897aa84-7afd-4cb0-ecc1-51ff665d252a"
      },
      "id": "upUzoHWOZQdC",
      "execution_count": null,
      "outputs": [
        {
          "output_type": "stream",
          "name": "stderr",
          "text": [
            "WARNING:absl:Found untraced functions such as _jit_compiled_convolution_op, _jit_compiled_convolution_op, _jit_compiled_convolution_op, _jit_compiled_convolution_op, _jit_compiled_convolution_op while saving (showing 5 of 53). These functions will not be directly callable after loading.\n"
          ]
        }
      ]
    },
    {
      "cell_type": "code",
      "source": [
        "import cv2\n",
        "import numpy as np\n",
        "from keras.models import load_model\n",
        "\n",
        "model = load_model('/content/drive/MyDrive/Colab Notebooks/models/resnet')\n",
        "\n",
        "while 2>1 :\n",
        "    test_image_path_1 = input(\"Enter the path to the first test image: \")\n",
        "    test_image_path_2 = input(\"Enter the path to the second test image: \")\n",
        "\n",
        "    image_1 = cv2.imread(test_image_path_1)\n",
        "    image_rgb_1 = cv2.cvtColor(image_1, cv2.COLOR_BGR2RGB)\n",
        "    resized_image_1 = cv2.resize(image_rgb_1, (224, 224))\n",
        "    normalized_image_1 = resized_image_1 / 255.0\n",
        "    preprocessed_image_1 = np.expand_dims(normalized_image_1, axis=0)\n",
        "\n",
        "    image_2 = cv2.imread(test_image_path_2)\n",
        "    image_rgb_2 = cv2.cvtColor(image_2, cv2.COLOR_BGR2RGB)\n",
        "    resized_image_2 = cv2.resize(image_rgb_2, (224, 224))\n",
        "    normalized_image_2 = resized_image_2 / 255.0\n",
        "    preprocessed_image_2 = np.expand_dims(normalized_image_2, axis=0)\n",
        "\n",
        "    prediction_1 = model.predict(preprocessed_image_1)\n",
        "    prediction_2 = model.predict(preprocessed_image_2)\n",
        "\n",
        "    if prediction_1[0][0] > 0.5:\n",
        "        print(\"First image: Genuine signature\")\n",
        "    else:\n",
        "        print(\"First image: Forged signature\")\n",
        "\n",
        "    if prediction_2[0][0] > 0.5:\n",
        "        print(\"Second image: Genuine signature\")\n",
        "    else:\n",
        "        print(\"Second image: Forged signature\")\n"
      ],
      "metadata": {
        "colab": {
          "base_uri": "https://localhost:8080/",
          "height": 484
        },
        "id": "8ZqPMQov7XZr",
        "outputId": "58cb1639-ce50-4354-ac3f-26bdc9c82259"
      },
      "id": "8ZqPMQov7XZr",
      "execution_count": null,
      "outputs": [
        {
          "output_type": "stream",
          "name": "stdout",
          "text": [
            "Enter the path to the first test image: /content/drive/MyDrive/CSE299 Dataset and Code/sign_data/train/024/01_024.png\n",
            "Enter the path to the second test image: /content/drive/MyDrive/CSE299 Dataset and Code/sign_data/train/024/04_024.png\n",
            "1/1 [==============================] - 1s 917ms/step\n",
            "1/1 [==============================] - 0s 25ms/step\n",
            "First image: Genuine signature\n",
            "Second image: Genuine signature\n"
          ]
        },
        {
          "output_type": "error",
          "ename": "KeyboardInterrupt",
          "evalue": "ignored",
          "traceback": [
            "\u001b[0;31m---------------------------------------------------------------------------\u001b[0m",
            "\u001b[0;31mKeyboardInterrupt\u001b[0m                         Traceback (most recent call last)",
            "\u001b[0;32m<ipython-input-37-1f3721b55a06>\u001b[0m in \u001b[0;36m<cell line: 7>\u001b[0;34m()\u001b[0m\n\u001b[1;32m      6\u001b[0m \u001b[0;34m\u001b[0m\u001b[0m\n\u001b[1;32m      7\u001b[0m \u001b[0;32mwhile\u001b[0m \u001b[0;36m2\u001b[0m\u001b[0;34m>\u001b[0m\u001b[0;36m1\u001b[0m \u001b[0;34m:\u001b[0m\u001b[0;34m\u001b[0m\u001b[0;34m\u001b[0m\u001b[0m\n\u001b[0;32m----> 8\u001b[0;31m     \u001b[0mtest_image_path_1\u001b[0m \u001b[0;34m=\u001b[0m \u001b[0minput\u001b[0m\u001b[0;34m(\u001b[0m\u001b[0;34m\"Enter the path to the first test image: \"\u001b[0m\u001b[0;34m)\u001b[0m\u001b[0;34m\u001b[0m\u001b[0;34m\u001b[0m\u001b[0m\n\u001b[0m\u001b[1;32m      9\u001b[0m     \u001b[0mtest_image_path_2\u001b[0m \u001b[0;34m=\u001b[0m \u001b[0minput\u001b[0m\u001b[0;34m(\u001b[0m\u001b[0;34m\"Enter the path to the second test image: \"\u001b[0m\u001b[0;34m)\u001b[0m\u001b[0;34m\u001b[0m\u001b[0;34m\u001b[0m\u001b[0m\n\u001b[1;32m     10\u001b[0m \u001b[0;34m\u001b[0m\u001b[0m\n",
            "\u001b[0;32m/usr/local/lib/python3.10/dist-packages/ipykernel/kernelbase.py\u001b[0m in \u001b[0;36mraw_input\u001b[0;34m(self, prompt)\u001b[0m\n\u001b[1;32m    849\u001b[0m                 \u001b[0;34m\"raw_input was called, but this frontend does not support input requests.\"\u001b[0m\u001b[0;34m\u001b[0m\u001b[0;34m\u001b[0m\u001b[0m\n\u001b[1;32m    850\u001b[0m             )\n\u001b[0;32m--> 851\u001b[0;31m         return self._input_request(str(prompt),\n\u001b[0m\u001b[1;32m    852\u001b[0m             \u001b[0mself\u001b[0m\u001b[0;34m.\u001b[0m\u001b[0m_parent_ident\u001b[0m\u001b[0;34m,\u001b[0m\u001b[0;34m\u001b[0m\u001b[0;34m\u001b[0m\u001b[0m\n\u001b[1;32m    853\u001b[0m             \u001b[0mself\u001b[0m\u001b[0;34m.\u001b[0m\u001b[0m_parent_header\u001b[0m\u001b[0;34m,\u001b[0m\u001b[0;34m\u001b[0m\u001b[0;34m\u001b[0m\u001b[0m\n",
            "\u001b[0;32m/usr/local/lib/python3.10/dist-packages/ipykernel/kernelbase.py\u001b[0m in \u001b[0;36m_input_request\u001b[0;34m(self, prompt, ident, parent, password)\u001b[0m\n\u001b[1;32m    893\u001b[0m             \u001b[0;32mexcept\u001b[0m \u001b[0mKeyboardInterrupt\u001b[0m\u001b[0;34m:\u001b[0m\u001b[0;34m\u001b[0m\u001b[0;34m\u001b[0m\u001b[0m\n\u001b[1;32m    894\u001b[0m                 \u001b[0;31m# re-raise KeyboardInterrupt, to truncate traceback\u001b[0m\u001b[0;34m\u001b[0m\u001b[0;34m\u001b[0m\u001b[0m\n\u001b[0;32m--> 895\u001b[0;31m                 \u001b[0;32mraise\u001b[0m \u001b[0mKeyboardInterrupt\u001b[0m\u001b[0;34m(\u001b[0m\u001b[0;34m\"Interrupted by user\"\u001b[0m\u001b[0;34m)\u001b[0m \u001b[0;32mfrom\u001b[0m \u001b[0;32mNone\u001b[0m\u001b[0;34m\u001b[0m\u001b[0;34m\u001b[0m\u001b[0m\n\u001b[0m\u001b[1;32m    896\u001b[0m             \u001b[0;32mexcept\u001b[0m \u001b[0mException\u001b[0m \u001b[0;32mas\u001b[0m \u001b[0me\u001b[0m\u001b[0;34m:\u001b[0m\u001b[0;34m\u001b[0m\u001b[0;34m\u001b[0m\u001b[0m\n\u001b[1;32m    897\u001b[0m                 \u001b[0mself\u001b[0m\u001b[0;34m.\u001b[0m\u001b[0mlog\u001b[0m\u001b[0;34m.\u001b[0m\u001b[0mwarning\u001b[0m\u001b[0;34m(\u001b[0m\u001b[0;34m\"Invalid Message:\"\u001b[0m\u001b[0;34m,\u001b[0m \u001b[0mexc_info\u001b[0m\u001b[0;34m=\u001b[0m\u001b[0;32mTrue\u001b[0m\u001b[0;34m)\u001b[0m\u001b[0;34m\u001b[0m\u001b[0;34m\u001b[0m\u001b[0m\n",
            "\u001b[0;31mKeyboardInterrupt\u001b[0m: Interrupted by user"
          ]
        }
      ]
    }
  ],
  "metadata": {
    "kernelspec": {
      "display_name": "Python 3",
      "name": "python3"
    },
    "language_info": {
      "codemirror_mode": {
        "name": "ipython",
        "version": 3
      },
      "file_extension": ".py",
      "mimetype": "text/x-python",
      "name": "python",
      "nbconvert_exporter": "python",
      "pygments_lexer": "ipython3",
      "version": "3.7.10"
    },
    "papermill": {
      "default_parameters": {},
      "duration": 998.253789,
      "end_time": "2021-09-27T19:57:36.009288",
      "environment_variables": {},
      "exception": null,
      "input_path": "__notebook__.ipynb",
      "output_path": "__notebook__.ipynb",
      "parameters": {},
      "start_time": "2021-09-27T19:40:57.755499",
      "version": "2.3.3"
    },
    "colab": {
      "provenance": [],
      "gpuType": "T4",
      "include_colab_link": true
    },
    "accelerator": "GPU"
  },
  "nbformat": 4,
  "nbformat_minor": 5
}